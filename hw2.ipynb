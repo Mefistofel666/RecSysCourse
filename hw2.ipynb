{
 "cells": [
  {
   "cell_type": "markdown",
   "id": "b197cb16",
   "metadata": {},
   "source": [
    "# <span style=\"color: #034f84\">Imports</span>"
   ]
  },
  {
   "cell_type": "code",
   "execution_count": 1,
   "id": "fe8caf9e",
   "metadata": {},
   "outputs": [],
   "source": [
    "import pandas as pd\n",
    "import numpy as np\n",
    "from rectools import Columns\n",
    "from rectools.dataset import Dataset, Interactions\n",
    "from rectools.metrics import MAP, calc_metrics\n",
    "from hyperopt import hp, fmin, tpe, STATUS_OK\n",
    "\n",
    "from models import PopularInUserCategory\n",
    "\n",
    "import warnings\n",
    "warnings.filterwarnings('ignore')"
   ]
  },
  {
   "cell_type": "markdown",
   "id": "946870d6",
   "metadata": {},
   "source": [
    "# <span style=\"color: #034f84\">Load Data</span>"
   ]
  },
  {
   "cell_type": "code",
   "execution_count": 2,
   "id": "c0418d55",
   "metadata": {},
   "outputs": [
    {
     "data": {
      "text/html": [
       "<div>\n",
       "<style scoped>\n",
       "    .dataframe tbody tr th:only-of-type {\n",
       "        vertical-align: middle;\n",
       "    }\n",
       "\n",
       "    .dataframe tbody tr th {\n",
       "        vertical-align: top;\n",
       "    }\n",
       "\n",
       "    .dataframe thead th {\n",
       "        text-align: right;\n",
       "    }\n",
       "</style>\n",
       "<table border=\"1\" class=\"dataframe\">\n",
       "  <thead>\n",
       "    <tr style=\"text-align: right;\">\n",
       "      <th></th>\n",
       "      <th>user_id</th>\n",
       "      <th>item_id</th>\n",
       "      <th>datetime</th>\n",
       "      <th>weight</th>\n",
       "      <th>watched_pct</th>\n",
       "    </tr>\n",
       "  </thead>\n",
       "  <tbody>\n",
       "    <tr>\n",
       "      <th>0</th>\n",
       "      <td>176549</td>\n",
       "      <td>9506</td>\n",
       "      <td>2021-05-11</td>\n",
       "      <td>4250</td>\n",
       "      <td>72</td>\n",
       "    </tr>\n",
       "    <tr>\n",
       "      <th>1</th>\n",
       "      <td>699317</td>\n",
       "      <td>1659</td>\n",
       "      <td>2021-05-29</td>\n",
       "      <td>8317</td>\n",
       "      <td>100</td>\n",
       "    </tr>\n",
       "    <tr>\n",
       "      <th>2</th>\n",
       "      <td>656683</td>\n",
       "      <td>7107</td>\n",
       "      <td>2021-05-09</td>\n",
       "      <td>10</td>\n",
       "      <td>0</td>\n",
       "    </tr>\n",
       "    <tr>\n",
       "      <th>3</th>\n",
       "      <td>864613</td>\n",
       "      <td>7638</td>\n",
       "      <td>2021-07-05</td>\n",
       "      <td>14483</td>\n",
       "      <td>100</td>\n",
       "    </tr>\n",
       "    <tr>\n",
       "      <th>4</th>\n",
       "      <td>964868</td>\n",
       "      <td>9506</td>\n",
       "      <td>2021-04-30</td>\n",
       "      <td>6725</td>\n",
       "      <td>100</td>\n",
       "    </tr>\n",
       "  </tbody>\n",
       "</table>\n",
       "</div>"
      ],
      "text/plain": [
       "   user_id  item_id   datetime  weight  watched_pct\n",
       "0   176549     9506 2021-05-11    4250           72\n",
       "1   699317     1659 2021-05-29    8317          100\n",
       "2   656683     7107 2021-05-09      10            0\n",
       "3   864613     7638 2021-07-05   14483          100\n",
       "4   964868     9506 2021-04-30    6725          100"
      ]
     },
     "execution_count": 2,
     "metadata": {},
     "output_type": "execute_result"
    }
   ],
   "source": [
    "interactions = pd.read_csv('data/interactions_processed.csv',  parse_dates=['last_watch_dt'])\n",
    "interactions.rename(\n",
    "    columns={\n",
    "        'last_watch_dt': Columns.Datetime,\n",
    "        'total_dur': Columns.Weight\n",
    "    },\n",
    "    inplace=True\n",
    ")\n",
    "interactions.head(5)"
   ]
  },
  {
   "cell_type": "code",
   "execution_count": 3,
   "id": "92ce4794",
   "metadata": {},
   "outputs": [
    {
     "name": "stdout",
     "output_type": "stream",
     "text": [
      "Items shape: (15706, 14)\n"
     ]
    },
    {
     "data": {
      "text/html": [
       "<div>\n",
       "<style scoped>\n",
       "    .dataframe tbody tr th:only-of-type {\n",
       "        vertical-align: middle;\n",
       "    }\n",
       "\n",
       "    .dataframe tbody tr th {\n",
       "        vertical-align: top;\n",
       "    }\n",
       "\n",
       "    .dataframe thead th {\n",
       "        text-align: right;\n",
       "    }\n",
       "</style>\n",
       "<table border=\"1\" class=\"dataframe\">\n",
       "  <thead>\n",
       "    <tr style=\"text-align: right;\">\n",
       "      <th></th>\n",
       "      <th>item_id</th>\n",
       "      <th>content_type</th>\n",
       "      <th>title</th>\n",
       "      <th>title_orig</th>\n",
       "      <th>genres</th>\n",
       "      <th>countries</th>\n",
       "      <th>for_kids</th>\n",
       "      <th>age_rating</th>\n",
       "      <th>studios</th>\n",
       "      <th>directors</th>\n",
       "      <th>actors</th>\n",
       "      <th>description</th>\n",
       "      <th>keywords</th>\n",
       "      <th>release_year_cat</th>\n",
       "    </tr>\n",
       "  </thead>\n",
       "  <tbody>\n",
       "    <tr>\n",
       "      <th>0</th>\n",
       "      <td>10711</td>\n",
       "      <td>film</td>\n",
       "      <td>поговори с ней</td>\n",
       "      <td>Hable con ella</td>\n",
       "      <td>драмы, зарубежные, детективы, мелодрамы</td>\n",
       "      <td>испания</td>\n",
       "      <td>False</td>\n",
       "      <td>16.0</td>\n",
       "      <td>unknown</td>\n",
       "      <td>педро альмодовар</td>\n",
       "      <td>Адольфо Фернандес, Ана Фернандес, Дарио Гранди...</td>\n",
       "      <td>Мелодрама легендарного Педро Альмодовара «Пого...</td>\n",
       "      <td>Поговори, ней, 2002, Испания, друзья, любовь, ...</td>\n",
       "      <td>2000-2010</td>\n",
       "    </tr>\n",
       "    <tr>\n",
       "      <th>1</th>\n",
       "      <td>2508</td>\n",
       "      <td>film</td>\n",
       "      <td>голые перцы</td>\n",
       "      <td>Search Party</td>\n",
       "      <td>зарубежные, приключения, комедии</td>\n",
       "      <td>сша</td>\n",
       "      <td>False</td>\n",
       "      <td>16.0</td>\n",
       "      <td>unknown</td>\n",
       "      <td>скот армстронг</td>\n",
       "      <td>Адам Палли, Брайан Хаски, Дж.Б. Смув, Джейсон ...</td>\n",
       "      <td>Уморительная современная комедия на популярную...</td>\n",
       "      <td>Голые, перцы, 2014, США, друзья, свадьбы, прео...</td>\n",
       "      <td>2010-2020</td>\n",
       "    </tr>\n",
       "    <tr>\n",
       "      <th>2</th>\n",
       "      <td>10716</td>\n",
       "      <td>film</td>\n",
       "      <td>тактическая сила</td>\n",
       "      <td>Tactical Force</td>\n",
       "      <td>криминал, зарубежные, триллеры, боевики, комедии</td>\n",
       "      <td>канада</td>\n",
       "      <td>False</td>\n",
       "      <td>16.0</td>\n",
       "      <td>unknown</td>\n",
       "      <td>адам п. калтраро</td>\n",
       "      <td>Адриан Холмс, Даррен Шалави, Джерри Вассерман,...</td>\n",
       "      <td>Профессиональный рестлер Стив Остин («Все или ...</td>\n",
       "      <td>Тактическая, сила, 2011, Канада, бандиты, ганг...</td>\n",
       "      <td>2010-2020</td>\n",
       "    </tr>\n",
       "    <tr>\n",
       "      <th>3</th>\n",
       "      <td>7868</td>\n",
       "      <td>film</td>\n",
       "      <td>45 лет</td>\n",
       "      <td>45 Years</td>\n",
       "      <td>драмы, зарубежные, мелодрамы</td>\n",
       "      <td>великобритания</td>\n",
       "      <td>False</td>\n",
       "      <td>16.0</td>\n",
       "      <td>unknown</td>\n",
       "      <td>эндрю хэй</td>\n",
       "      <td>Александра Риддлстон-Барретт, Джеральдин Джейм...</td>\n",
       "      <td>Шарлотта Рэмплинг, Том Кортни, Джеральдин Джей...</td>\n",
       "      <td>45, лет, 2015, Великобритания, брак, жизнь, лю...</td>\n",
       "      <td>2010-2020</td>\n",
       "    </tr>\n",
       "    <tr>\n",
       "      <th>4</th>\n",
       "      <td>16268</td>\n",
       "      <td>film</td>\n",
       "      <td>все решает мгновение</td>\n",
       "      <td>None</td>\n",
       "      <td>драмы, спорт, советские, мелодрамы</td>\n",
       "      <td>ссср</td>\n",
       "      <td>False</td>\n",
       "      <td>12.0</td>\n",
       "      <td>ленфильм</td>\n",
       "      <td>виктор садовский</td>\n",
       "      <td>Александр Абдулов, Александр Демьяненко, Алекс...</td>\n",
       "      <td>Расчетливая чаровница из советского кинохита «...</td>\n",
       "      <td>Все, решает, мгновение, 1978, СССР, сильные, ж...</td>\n",
       "      <td>1970-1980</td>\n",
       "    </tr>\n",
       "  </tbody>\n",
       "</table>\n",
       "</div>"
      ],
      "text/plain": [
       "   item_id content_type                 title      title_orig  \\\n",
       "0    10711         film        поговори с ней  Hable con ella   \n",
       "1     2508         film           голые перцы    Search Party   \n",
       "2    10716         film      тактическая сила  Tactical Force   \n",
       "3     7868         film                45 лет        45 Years   \n",
       "4    16268         film  все решает мгновение            None   \n",
       "\n",
       "                                             genres       countries  for_kids  \\\n",
       "0           драмы, зарубежные, детективы, мелодрамы         испания     False   \n",
       "1                  зарубежные, приключения, комедии             сша     False   \n",
       "2  криминал, зарубежные, триллеры, боевики, комедии          канада     False   \n",
       "3                      драмы, зарубежные, мелодрамы  великобритания     False   \n",
       "4                драмы, спорт, советские, мелодрамы            ссср     False   \n",
       "\n",
       "   age_rating   studios         directors  \\\n",
       "0        16.0   unknown  педро альмодовар   \n",
       "1        16.0   unknown    скот армстронг   \n",
       "2        16.0   unknown  адам п. калтраро   \n",
       "3        16.0   unknown         эндрю хэй   \n",
       "4        12.0  ленфильм  виктор садовский   \n",
       "\n",
       "                                              actors  \\\n",
       "0  Адольфо Фернандес, Ана Фернандес, Дарио Гранди...   \n",
       "1  Адам Палли, Брайан Хаски, Дж.Б. Смув, Джейсон ...   \n",
       "2  Адриан Холмс, Даррен Шалави, Джерри Вассерман,...   \n",
       "3  Александра Риддлстон-Барретт, Джеральдин Джейм...   \n",
       "4  Александр Абдулов, Александр Демьяненко, Алекс...   \n",
       "\n",
       "                                         description  \\\n",
       "0  Мелодрама легендарного Педро Альмодовара «Пого...   \n",
       "1  Уморительная современная комедия на популярную...   \n",
       "2  Профессиональный рестлер Стив Остин («Все или ...   \n",
       "3  Шарлотта Рэмплинг, Том Кортни, Джеральдин Джей...   \n",
       "4  Расчетливая чаровница из советского кинохита «...   \n",
       "\n",
       "                                            keywords release_year_cat  \n",
       "0  Поговори, ней, 2002, Испания, друзья, любовь, ...        2000-2010  \n",
       "1  Голые, перцы, 2014, США, друзья, свадьбы, прео...        2010-2020  \n",
       "2  Тактическая, сила, 2011, Канада, бандиты, ганг...        2010-2020  \n",
       "3  45, лет, 2015, Великобритания, брак, жизнь, лю...        2010-2020  \n",
       "4  Все, решает, мгновение, 1978, СССР, сильные, ж...        1970-1980  "
      ]
     },
     "execution_count": 3,
     "metadata": {},
     "output_type": "execute_result"
    }
   ],
   "source": [
    "items = pd.read_csv('data/items_processed.csv')\n",
    "items = items[items[Columns.Item].isin(interactions[Columns.Item])]\n",
    "print(f\"Items shape: {items.shape}\")\n",
    "items.head(5)"
   ]
  },
  {
   "cell_type": "code",
   "execution_count": 4,
   "id": "faf06304",
   "metadata": {},
   "outputs": [
    {
     "name": "stdout",
     "output_type": "stream",
     "text": [
      "Users shape: (840197, 5)\n"
     ]
    },
    {
     "data": {
      "text/html": [
       "<div>\n",
       "<style scoped>\n",
       "    .dataframe tbody tr th:only-of-type {\n",
       "        vertical-align: middle;\n",
       "    }\n",
       "\n",
       "    .dataframe tbody tr th {\n",
       "        vertical-align: top;\n",
       "    }\n",
       "\n",
       "    .dataframe thead th {\n",
       "        text-align: right;\n",
       "    }\n",
       "</style>\n",
       "<table border=\"1\" class=\"dataframe\">\n",
       "  <thead>\n",
       "    <tr style=\"text-align: right;\">\n",
       "      <th></th>\n",
       "      <th>user_id</th>\n",
       "      <th>age</th>\n",
       "      <th>income</th>\n",
       "      <th>sex</th>\n",
       "      <th>kids_flg</th>\n",
       "    </tr>\n",
       "  </thead>\n",
       "  <tbody>\n",
       "    <tr>\n",
       "      <th>0</th>\n",
       "      <td>973171</td>\n",
       "      <td>age_25_34</td>\n",
       "      <td>income_60_90</td>\n",
       "      <td>M</td>\n",
       "      <td>True</td>\n",
       "    </tr>\n",
       "    <tr>\n",
       "      <th>1</th>\n",
       "      <td>962099</td>\n",
       "      <td>age_18_24</td>\n",
       "      <td>income_20_40</td>\n",
       "      <td>M</td>\n",
       "      <td>False</td>\n",
       "    </tr>\n",
       "    <tr>\n",
       "      <th>2</th>\n",
       "      <td>1047345</td>\n",
       "      <td>age_45_54</td>\n",
       "      <td>income_40_60</td>\n",
       "      <td>F</td>\n",
       "      <td>False</td>\n",
       "    </tr>\n",
       "    <tr>\n",
       "      <th>3</th>\n",
       "      <td>721985</td>\n",
       "      <td>age_45_54</td>\n",
       "      <td>income_20_40</td>\n",
       "      <td>F</td>\n",
       "      <td>False</td>\n",
       "    </tr>\n",
       "    <tr>\n",
       "      <th>4</th>\n",
       "      <td>704055</td>\n",
       "      <td>age_35_44</td>\n",
       "      <td>income_60_90</td>\n",
       "      <td>F</td>\n",
       "      <td>False</td>\n",
       "    </tr>\n",
       "  </tbody>\n",
       "</table>\n",
       "</div>"
      ],
      "text/plain": [
       "   user_id        age        income sex  kids_flg\n",
       "0   973171  age_25_34  income_60_90   M      True\n",
       "1   962099  age_18_24  income_20_40   M     False\n",
       "2  1047345  age_45_54  income_40_60   F     False\n",
       "3   721985  age_45_54  income_20_40   F     False\n",
       "4   704055  age_35_44  income_60_90   F     False"
      ]
     },
     "execution_count": 4,
     "metadata": {},
     "output_type": "execute_result"
    }
   ],
   "source": [
    "users = pd.read_csv('data/users_processed.csv')\n",
    "print(f\"Users shape: {users.shape}\")\n",
    "users.head()"
   ]
  },
  {
   "cell_type": "code",
   "execution_count": 5,
   "id": "a5566fc5",
   "metadata": {},
   "outputs": [],
   "source": [
    "submission = pd.read_csv('data/sample_submission.csv')"
   ]
  },
  {
   "cell_type": "markdown",
   "id": "15771e82",
   "metadata": {},
   "source": [
    "# <span style=\"color: #034f84\">Some Header</span>"
   ]
  },
  {
   "cell_type": "code",
   "execution_count": 6,
   "id": "223045ae",
   "metadata": {},
   "outputs": [
    {
     "name": "stdout",
     "output_type": "stream",
     "text": [
      "Train size: 4985269\n",
      "Test size: 490982\n"
     ]
    }
   ],
   "source": [
    "last_date = interactions['datetime'].max().normalize()\n",
    "thd_dttm = last_date - pd.Timedelta(days=7)\n",
    "\n",
    "train = interactions[interactions[Columns.Datetime] < thd_dttm]\n",
    "test = interactions[interactions[Columns.Datetime] >= thd_dttm]\n",
    "\n",
    "print(f\"Train size: {train.shape[0]}\")\n",
    "print(f\"Test size: {test.shape[0]}\")"
   ]
  },
  {
   "cell_type": "markdown",
   "id": "43810ab2",
   "metadata": {},
   "source": [
    "# <span style=\"color: #034f84\">User Features Preparation</span>"
   ]
  },
  {
   "cell_type": "code",
   "execution_count": 7,
   "id": "b35ba8f5",
   "metadata": {},
   "outputs": [
    {
     "data": {
      "text/plain": [
       "{'user_id': 'user_id_unknown',\n",
       " 'age': 'age_unknown',\n",
       " 'income': 'income_unknown',\n",
       " 'sex': 'sex_unknown',\n",
       " 'kids_flg': 'kids_flg_unknown'}"
      ]
     },
     "execution_count": 7,
     "metadata": {},
     "output_type": "execute_result"
    }
   ],
   "source": [
    "fillna_vals = {col: col + \"_unknown\" for col in users.columns}\n",
    "fillna_vals"
   ]
  },
  {
   "cell_type": "code",
   "execution_count": 8,
   "id": "3e27e82f",
   "metadata": {},
   "outputs": [],
   "source": [
    "users.fillna(fillna_vals, inplace=True)"
   ]
  },
  {
   "cell_type": "code",
   "execution_count": 9,
   "id": "6d5c933f",
   "metadata": {},
   "outputs": [
    {
     "data": {
      "text/html": [
       "<div>\n",
       "<style scoped>\n",
       "    .dataframe tbody tr th:only-of-type {\n",
       "        vertical-align: middle;\n",
       "    }\n",
       "\n",
       "    .dataframe tbody tr th {\n",
       "        vertical-align: top;\n",
       "    }\n",
       "\n",
       "    .dataframe thead th {\n",
       "        text-align: right;\n",
       "    }\n",
       "</style>\n",
       "<table border=\"1\" class=\"dataframe\">\n",
       "  <thead>\n",
       "    <tr style=\"text-align: right;\">\n",
       "      <th></th>\n",
       "      <th>user_id</th>\n",
       "      <th>age</th>\n",
       "      <th>income</th>\n",
       "      <th>sex</th>\n",
       "      <th>kids_flg</th>\n",
       "    </tr>\n",
       "  </thead>\n",
       "  <tbody>\n",
       "    <tr>\n",
       "      <th>0</th>\n",
       "      <td>973171</td>\n",
       "      <td>age_25_34</td>\n",
       "      <td>income_60_90</td>\n",
       "      <td>M</td>\n",
       "      <td>True</td>\n",
       "    </tr>\n",
       "    <tr>\n",
       "      <th>1</th>\n",
       "      <td>962099</td>\n",
       "      <td>age_18_24</td>\n",
       "      <td>income_20_40</td>\n",
       "      <td>M</td>\n",
       "      <td>False</td>\n",
       "    </tr>\n",
       "    <tr>\n",
       "      <th>3</th>\n",
       "      <td>721985</td>\n",
       "      <td>age_45_54</td>\n",
       "      <td>income_20_40</td>\n",
       "      <td>F</td>\n",
       "      <td>False</td>\n",
       "    </tr>\n",
       "    <tr>\n",
       "      <th>4</th>\n",
       "      <td>704055</td>\n",
       "      <td>age_35_44</td>\n",
       "      <td>income_60_90</td>\n",
       "      <td>F</td>\n",
       "      <td>False</td>\n",
       "    </tr>\n",
       "    <tr>\n",
       "      <th>5</th>\n",
       "      <td>1037719</td>\n",
       "      <td>age_45_54</td>\n",
       "      <td>income_60_90</td>\n",
       "      <td>M</td>\n",
       "      <td>False</td>\n",
       "    </tr>\n",
       "  </tbody>\n",
       "</table>\n",
       "</div>"
      ],
      "text/plain": [
       "   user_id        age        income sex  kids_flg\n",
       "0   973171  age_25_34  income_60_90   M      True\n",
       "1   962099  age_18_24  income_20_40   M     False\n",
       "3   721985  age_45_54  income_20_40   F     False\n",
       "4   704055  age_35_44  income_60_90   F     False\n",
       "5  1037719  age_45_54  income_60_90   M     False"
      ]
     },
     "execution_count": 9,
     "metadata": {},
     "output_type": "execute_result"
    }
   ],
   "source": [
    "users = users.loc[users[Columns.User].isin(train[Columns.User])]\n",
    "users.head()"
   ]
  },
  {
   "cell_type": "code",
   "execution_count": 10,
   "id": "624a8b43",
   "metadata": {},
   "outputs": [
    {
     "data": {
      "text/html": [
       "<div>\n",
       "<style scoped>\n",
       "    .dataframe tbody tr th:only-of-type {\n",
       "        vertical-align: middle;\n",
       "    }\n",
       "\n",
       "    .dataframe tbody tr th {\n",
       "        vertical-align: top;\n",
       "    }\n",
       "\n",
       "    .dataframe thead th {\n",
       "        text-align: right;\n",
       "    }\n",
       "</style>\n",
       "<table border=\"1\" class=\"dataframe\">\n",
       "  <thead>\n",
       "    <tr style=\"text-align: right;\">\n",
       "      <th></th>\n",
       "      <th>id</th>\n",
       "      <th>value</th>\n",
       "      <th>feature</th>\n",
       "    </tr>\n",
       "  </thead>\n",
       "  <tbody>\n",
       "    <tr>\n",
       "      <th>0</th>\n",
       "      <td>973171</td>\n",
       "      <td>M</td>\n",
       "      <td>sex</td>\n",
       "    </tr>\n",
       "    <tr>\n",
       "      <th>1</th>\n",
       "      <td>962099</td>\n",
       "      <td>M</td>\n",
       "      <td>sex</td>\n",
       "    </tr>\n",
       "    <tr>\n",
       "      <th>3</th>\n",
       "      <td>721985</td>\n",
       "      <td>F</td>\n",
       "      <td>sex</td>\n",
       "    </tr>\n",
       "    <tr>\n",
       "      <th>4</th>\n",
       "      <td>704055</td>\n",
       "      <td>F</td>\n",
       "      <td>sex</td>\n",
       "    </tr>\n",
       "    <tr>\n",
       "      <th>5</th>\n",
       "      <td>1037719</td>\n",
       "      <td>M</td>\n",
       "      <td>sex</td>\n",
       "    </tr>\n",
       "  </tbody>\n",
       "</table>\n",
       "</div>"
      ],
      "text/plain": [
       "        id value feature\n",
       "0   973171     M     sex\n",
       "1   962099     M     sex\n",
       "3   721985     F     sex\n",
       "4   704055     F     sex\n",
       "5  1037719     M     sex"
      ]
     },
     "execution_count": 10,
     "metadata": {},
     "output_type": "execute_result"
    }
   ],
   "source": [
    "user_features = []\n",
    "for feature in [\"sex\", \"age\", \"income\"]:\n",
    "    feature_tmp = users.reindex(columns=[Columns.User, feature])\n",
    "    feature_tmp.columns = [\"id\", \"value\"]\n",
    "    feature_tmp[\"feature\"] = feature\n",
    "    user_features.append(feature_tmp)\n",
    "user_features = pd.concat(user_features)\n",
    "user_features.head()"
   ]
  },
  {
   "cell_type": "markdown",
   "id": "4ac718f6",
   "metadata": {},
   "source": [
    "# <span style=\"color: #034f84\">Item Features Preparation</span>"
   ]
  },
  {
   "cell_type": "code",
   "execution_count": 11,
   "id": "aa715f36",
   "metadata": {
    "scrolled": true
   },
   "outputs": [
    {
     "data": {
      "text/html": [
       "<div>\n",
       "<style scoped>\n",
       "    .dataframe tbody tr th:only-of-type {\n",
       "        vertical-align: middle;\n",
       "    }\n",
       "\n",
       "    .dataframe tbody tr th {\n",
       "        vertical-align: top;\n",
       "    }\n",
       "\n",
       "    .dataframe thead th {\n",
       "        text-align: right;\n",
       "    }\n",
       "</style>\n",
       "<table border=\"1\" class=\"dataframe\">\n",
       "  <thead>\n",
       "    <tr style=\"text-align: right;\">\n",
       "      <th></th>\n",
       "      <th>item_id</th>\n",
       "      <th>content_type</th>\n",
       "      <th>title</th>\n",
       "      <th>title_orig</th>\n",
       "      <th>genres</th>\n",
       "      <th>countries</th>\n",
       "      <th>for_kids</th>\n",
       "      <th>age_rating</th>\n",
       "      <th>studios</th>\n",
       "      <th>directors</th>\n",
       "      <th>actors</th>\n",
       "      <th>description</th>\n",
       "      <th>keywords</th>\n",
       "      <th>release_year_cat</th>\n",
       "    </tr>\n",
       "  </thead>\n",
       "  <tbody>\n",
       "    <tr>\n",
       "      <th>0</th>\n",
       "      <td>10711</td>\n",
       "      <td>film</td>\n",
       "      <td>поговори с ней</td>\n",
       "      <td>Hable con ella</td>\n",
       "      <td>драмы, зарубежные, детективы, мелодрамы</td>\n",
       "      <td>испания</td>\n",
       "      <td>False</td>\n",
       "      <td>16.0</td>\n",
       "      <td>unknown</td>\n",
       "      <td>педро альмодовар</td>\n",
       "      <td>Адольфо Фернандес, Ана Фернандес, Дарио Гранди...</td>\n",
       "      <td>Мелодрама легендарного Педро Альмодовара «Пого...</td>\n",
       "      <td>Поговори, ней, 2002, Испания, друзья, любовь, ...</td>\n",
       "      <td>2000-2010</td>\n",
       "    </tr>\n",
       "    <tr>\n",
       "      <th>1</th>\n",
       "      <td>2508</td>\n",
       "      <td>film</td>\n",
       "      <td>голые перцы</td>\n",
       "      <td>Search Party</td>\n",
       "      <td>зарубежные, приключения, комедии</td>\n",
       "      <td>сша</td>\n",
       "      <td>False</td>\n",
       "      <td>16.0</td>\n",
       "      <td>unknown</td>\n",
       "      <td>скот армстронг</td>\n",
       "      <td>Адам Палли, Брайан Хаски, Дж.Б. Смув, Джейсон ...</td>\n",
       "      <td>Уморительная современная комедия на популярную...</td>\n",
       "      <td>Голые, перцы, 2014, США, друзья, свадьбы, прео...</td>\n",
       "      <td>2010-2020</td>\n",
       "    </tr>\n",
       "    <tr>\n",
       "      <th>2</th>\n",
       "      <td>10716</td>\n",
       "      <td>film</td>\n",
       "      <td>тактическая сила</td>\n",
       "      <td>Tactical Force</td>\n",
       "      <td>криминал, зарубежные, триллеры, боевики, комедии</td>\n",
       "      <td>канада</td>\n",
       "      <td>False</td>\n",
       "      <td>16.0</td>\n",
       "      <td>unknown</td>\n",
       "      <td>адам п. калтраро</td>\n",
       "      <td>Адриан Холмс, Даррен Шалави, Джерри Вассерман,...</td>\n",
       "      <td>Профессиональный рестлер Стив Остин («Все или ...</td>\n",
       "      <td>Тактическая, сила, 2011, Канада, бандиты, ганг...</td>\n",
       "      <td>2010-2020</td>\n",
       "    </tr>\n",
       "    <tr>\n",
       "      <th>3</th>\n",
       "      <td>7868</td>\n",
       "      <td>film</td>\n",
       "      <td>45 лет</td>\n",
       "      <td>45 Years</td>\n",
       "      <td>драмы, зарубежные, мелодрамы</td>\n",
       "      <td>великобритания</td>\n",
       "      <td>False</td>\n",
       "      <td>16.0</td>\n",
       "      <td>unknown</td>\n",
       "      <td>эндрю хэй</td>\n",
       "      <td>Александра Риддлстон-Барретт, Джеральдин Джейм...</td>\n",
       "      <td>Шарлотта Рэмплинг, Том Кортни, Джеральдин Джей...</td>\n",
       "      <td>45, лет, 2015, Великобритания, брак, жизнь, лю...</td>\n",
       "      <td>2010-2020</td>\n",
       "    </tr>\n",
       "    <tr>\n",
       "      <th>4</th>\n",
       "      <td>16268</td>\n",
       "      <td>film</td>\n",
       "      <td>все решает мгновение</td>\n",
       "      <td>None</td>\n",
       "      <td>драмы, спорт, советские, мелодрамы</td>\n",
       "      <td>ссср</td>\n",
       "      <td>False</td>\n",
       "      <td>12.0</td>\n",
       "      <td>ленфильм</td>\n",
       "      <td>виктор садовский</td>\n",
       "      <td>Александр Абдулов, Александр Демьяненко, Алекс...</td>\n",
       "      <td>Расчетливая чаровница из советского кинохита «...</td>\n",
       "      <td>Все, решает, мгновение, 1978, СССР, сильные, ж...</td>\n",
       "      <td>1970-1980</td>\n",
       "    </tr>\n",
       "  </tbody>\n",
       "</table>\n",
       "</div>"
      ],
      "text/plain": [
       "   item_id content_type                 title      title_orig  \\\n",
       "0    10711         film        поговори с ней  Hable con ella   \n",
       "1     2508         film           голые перцы    Search Party   \n",
       "2    10716         film      тактическая сила  Tactical Force   \n",
       "3     7868         film                45 лет        45 Years   \n",
       "4    16268         film  все решает мгновение            None   \n",
       "\n",
       "                                             genres       countries  for_kids  \\\n",
       "0           драмы, зарубежные, детективы, мелодрамы         испания     False   \n",
       "1                  зарубежные, приключения, комедии             сша     False   \n",
       "2  криминал, зарубежные, триллеры, боевики, комедии          канада     False   \n",
       "3                      драмы, зарубежные, мелодрамы  великобритания     False   \n",
       "4                драмы, спорт, советские, мелодрамы            ссср     False   \n",
       "\n",
       "   age_rating   studios         directors  \\\n",
       "0        16.0   unknown  педро альмодовар   \n",
       "1        16.0   unknown    скот армстронг   \n",
       "2        16.0   unknown  адам п. калтраро   \n",
       "3        16.0   unknown         эндрю хэй   \n",
       "4        12.0  ленфильм  виктор садовский   \n",
       "\n",
       "                                              actors  \\\n",
       "0  Адольфо Фернандес, Ана Фернандес, Дарио Гранди...   \n",
       "1  Адам Палли, Брайан Хаски, Дж.Б. Смув, Джейсон ...   \n",
       "2  Адриан Холмс, Даррен Шалави, Джерри Вассерман,...   \n",
       "3  Александра Риддлстон-Барретт, Джеральдин Джейм...   \n",
       "4  Александр Абдулов, Александр Демьяненко, Алекс...   \n",
       "\n",
       "                                         description  \\\n",
       "0  Мелодрама легендарного Педро Альмодовара «Пого...   \n",
       "1  Уморительная современная комедия на популярную...   \n",
       "2  Профессиональный рестлер Стив Остин («Все или ...   \n",
       "3  Шарлотта Рэмплинг, Том Кортни, Джеральдин Джей...   \n",
       "4  Расчетливая чаровница из советского кинохита «...   \n",
       "\n",
       "                                            keywords release_year_cat  \n",
       "0  Поговори, ней, 2002, Испания, друзья, любовь, ...        2000-2010  \n",
       "1  Голые, перцы, 2014, США, друзья, свадьбы, прео...        2010-2020  \n",
       "2  Тактическая, сила, 2011, Канада, бандиты, ганг...        2010-2020  \n",
       "3  45, лет, 2015, Великобритания, брак, жизнь, лю...        2010-2020  \n",
       "4  Все, решает, мгновение, 1978, СССР, сильные, ж...        1970-1980  "
      ]
     },
     "execution_count": 11,
     "metadata": {},
     "output_type": "execute_result"
    }
   ],
   "source": [
    "items = items.loc[items[Columns.Item].isin(train[Columns.Item])]\n",
    "items.head()"
   ]
  },
  {
   "cell_type": "markdown",
   "id": "5a053f29",
   "metadata": {},
   "source": [
    "### <span style=\"color: #405d27\">Genre Feature</span>"
   ]
  },
  {
   "cell_type": "code",
   "execution_count": 12,
   "id": "0a5d36a0",
   "metadata": {},
   "outputs": [
    {
     "data": {
      "text/html": [
       "<div>\n",
       "<style scoped>\n",
       "    .dataframe tbody tr th:only-of-type {\n",
       "        vertical-align: middle;\n",
       "    }\n",
       "\n",
       "    .dataframe tbody tr th {\n",
       "        vertical-align: top;\n",
       "    }\n",
       "\n",
       "    .dataframe thead th {\n",
       "        text-align: right;\n",
       "    }\n",
       "</style>\n",
       "<table border=\"1\" class=\"dataframe\">\n",
       "  <thead>\n",
       "    <tr style=\"text-align: right;\">\n",
       "      <th></th>\n",
       "      <th>id</th>\n",
       "      <th>value</th>\n",
       "      <th>feature</th>\n",
       "    </tr>\n",
       "  </thead>\n",
       "  <tbody>\n",
       "    <tr>\n",
       "      <th>0</th>\n",
       "      <td>10711</td>\n",
       "      <td>драмы</td>\n",
       "      <td>genre</td>\n",
       "    </tr>\n",
       "    <tr>\n",
       "      <th>0</th>\n",
       "      <td>10711</td>\n",
       "      <td>зарубежные</td>\n",
       "      <td>genre</td>\n",
       "    </tr>\n",
       "    <tr>\n",
       "      <th>0</th>\n",
       "      <td>10711</td>\n",
       "      <td>детективы</td>\n",
       "      <td>genre</td>\n",
       "    </tr>\n",
       "    <tr>\n",
       "      <th>0</th>\n",
       "      <td>10711</td>\n",
       "      <td>мелодрамы</td>\n",
       "      <td>genre</td>\n",
       "    </tr>\n",
       "    <tr>\n",
       "      <th>1</th>\n",
       "      <td>2508</td>\n",
       "      <td>зарубежные</td>\n",
       "      <td>genre</td>\n",
       "    </tr>\n",
       "  </tbody>\n",
       "</table>\n",
       "</div>"
      ],
      "text/plain": [
       "      id        value feature\n",
       "0  10711        драмы   genre\n",
       "0  10711   зарубежные   genre\n",
       "0  10711    детективы   genre\n",
       "0  10711    мелодрамы   genre\n",
       "1   2508   зарубежные   genre"
      ]
     },
     "execution_count": 12,
     "metadata": {},
     "output_type": "execute_result"
    }
   ],
   "source": [
    "items[\"genre\"] = items[\"genres\"].str.split(\",\")\n",
    "genre_feature = items[[\"item_id\", \"genre\"]].explode(\"genre\")\n",
    "genre_feature.columns = [\"id\", \"value\"]\n",
    "genre_feature[\"feature\"] = \"genre\"\n",
    "genre_feature.head()"
   ]
  },
  {
   "cell_type": "markdown",
   "id": "45bd0910",
   "metadata": {},
   "source": [
    "### <span style=\"color: #405d27\">Content Type Feature</span>"
   ]
  },
  {
   "cell_type": "code",
   "execution_count": 13,
   "id": "5f7d6db1",
   "metadata": {},
   "outputs": [
    {
     "data": {
      "text/html": [
       "<div>\n",
       "<style scoped>\n",
       "    .dataframe tbody tr th:only-of-type {\n",
       "        vertical-align: middle;\n",
       "    }\n",
       "\n",
       "    .dataframe tbody tr th {\n",
       "        vertical-align: top;\n",
       "    }\n",
       "\n",
       "    .dataframe thead th {\n",
       "        text-align: right;\n",
       "    }\n",
       "</style>\n",
       "<table border=\"1\" class=\"dataframe\">\n",
       "  <thead>\n",
       "    <tr style=\"text-align: right;\">\n",
       "      <th></th>\n",
       "      <th>id</th>\n",
       "      <th>value</th>\n",
       "      <th>feature</th>\n",
       "    </tr>\n",
       "  </thead>\n",
       "  <tbody>\n",
       "    <tr>\n",
       "      <th>0</th>\n",
       "      <td>10711</td>\n",
       "      <td>film</td>\n",
       "      <td>content_type</td>\n",
       "    </tr>\n",
       "    <tr>\n",
       "      <th>1</th>\n",
       "      <td>2508</td>\n",
       "      <td>film</td>\n",
       "      <td>content_type</td>\n",
       "    </tr>\n",
       "    <tr>\n",
       "      <th>2</th>\n",
       "      <td>10716</td>\n",
       "      <td>film</td>\n",
       "      <td>content_type</td>\n",
       "    </tr>\n",
       "    <tr>\n",
       "      <th>3</th>\n",
       "      <td>7868</td>\n",
       "      <td>film</td>\n",
       "      <td>content_type</td>\n",
       "    </tr>\n",
       "    <tr>\n",
       "      <th>4</th>\n",
       "      <td>16268</td>\n",
       "      <td>film</td>\n",
       "      <td>content_type</td>\n",
       "    </tr>\n",
       "  </tbody>\n",
       "</table>\n",
       "</div>"
      ],
      "text/plain": [
       "      id value       feature\n",
       "0  10711  film  content_type\n",
       "1   2508  film  content_type\n",
       "2  10716  film  content_type\n",
       "3   7868  film  content_type\n",
       "4  16268  film  content_type"
      ]
     },
     "execution_count": 13,
     "metadata": {},
     "output_type": "execute_result"
    }
   ],
   "source": [
    "content_feature = items.reindex(columns=[Columns.Item, \"content_type\"])\n",
    "content_feature.columns = [\"id\", \"value\"]\n",
    "content_feature[\"feature\"] = \"content_type\"\n",
    "content_feature.head()"
   ]
  },
  {
   "cell_type": "markdown",
   "id": "5ad644c6",
   "metadata": {},
   "source": [
    "### <span style=\"color: #405d27\">Release Year Feature</span>"
   ]
  },
  {
   "cell_type": "code",
   "execution_count": 14,
   "id": "e1234423",
   "metadata": {},
   "outputs": [
    {
     "data": {
      "text/html": [
       "<div>\n",
       "<style scoped>\n",
       "    .dataframe tbody tr th:only-of-type {\n",
       "        vertical-align: middle;\n",
       "    }\n",
       "\n",
       "    .dataframe tbody tr th {\n",
       "        vertical-align: top;\n",
       "    }\n",
       "\n",
       "    .dataframe thead th {\n",
       "        text-align: right;\n",
       "    }\n",
       "</style>\n",
       "<table border=\"1\" class=\"dataframe\">\n",
       "  <thead>\n",
       "    <tr style=\"text-align: right;\">\n",
       "      <th></th>\n",
       "      <th>id</th>\n",
       "      <th>value</th>\n",
       "      <th>feature</th>\n",
       "    </tr>\n",
       "  </thead>\n",
       "  <tbody>\n",
       "    <tr>\n",
       "      <th>0</th>\n",
       "      <td>10711</td>\n",
       "      <td>2000-2010</td>\n",
       "      <td>release_year_cat</td>\n",
       "    </tr>\n",
       "    <tr>\n",
       "      <th>1</th>\n",
       "      <td>2508</td>\n",
       "      <td>2010-2020</td>\n",
       "      <td>release_year_cat</td>\n",
       "    </tr>\n",
       "    <tr>\n",
       "      <th>2</th>\n",
       "      <td>10716</td>\n",
       "      <td>2010-2020</td>\n",
       "      <td>release_year_cat</td>\n",
       "    </tr>\n",
       "    <tr>\n",
       "      <th>3</th>\n",
       "      <td>7868</td>\n",
       "      <td>2010-2020</td>\n",
       "      <td>release_year_cat</td>\n",
       "    </tr>\n",
       "    <tr>\n",
       "      <th>4</th>\n",
       "      <td>16268</td>\n",
       "      <td>1970-1980</td>\n",
       "      <td>release_year_cat</td>\n",
       "    </tr>\n",
       "  </tbody>\n",
       "</table>\n",
       "</div>"
      ],
      "text/plain": [
       "      id      value           feature\n",
       "0  10711  2000-2010  release_year_cat\n",
       "1   2508  2010-2020  release_year_cat\n",
       "2  10716  2010-2020  release_year_cat\n",
       "3   7868  2010-2020  release_year_cat\n",
       "4  16268  1970-1980  release_year_cat"
      ]
     },
     "execution_count": 14,
     "metadata": {},
     "output_type": "execute_result"
    }
   ],
   "source": [
    "ryear_feature = items.reindex(columns=[Columns.Item, \"release_year_cat\"])\n",
    "ryear_feature.columns = [\"id\", \"value\"]\n",
    "ryear_feature[\"feature\"] = \"release_year_cat\"\n",
    "ryear_feature.head()"
   ]
  },
  {
   "cell_type": "code",
   "execution_count": 15,
   "id": "22dcadba",
   "metadata": {},
   "outputs": [],
   "source": [
    "item_features = pd.concat(\n",
    "    (genre_feature, content_feature, ryear_feature)\n",
    ")"
   ]
  },
  {
   "cell_type": "code",
   "execution_count": 16,
   "id": "f047b863",
   "metadata": {},
   "outputs": [],
   "source": [
    "dataset = Dataset.construct(\n",
    "    interactions_df=train,\n",
    "    user_features_df=user_features,\n",
    "    cat_user_features=[\"sex\", \"age\", \"income\"],\n",
    "    item_features_df=item_features,\n",
    "    cat_item_features=[\"genre\", 'release_year_cat', 'content_type'],\n",
    ")"
   ]
  },
  {
   "cell_type": "markdown",
   "id": "1207c1f3",
   "metadata": {},
   "source": [
    "# <span style=\"color: #034f84\">LightFM</span>"
   ]
  },
  {
   "cell_type": "code",
   "execution_count": 17,
   "id": "18be8230",
   "metadata": {},
   "outputs": [],
   "source": [
    "from __future__ import annotations\n",
    "from rectools.models import LightFMWrapperModel\n",
    "from lightfm import LightFM"
   ]
  },
  {
   "cell_type": "code",
   "execution_count": 18,
   "id": "7c6ca405",
   "metadata": {},
   "outputs": [],
   "source": [
    "class MyLightFM:\n",
    "    def __init__(\n",
    "        self,\n",
    "        no_components: int = 32,\n",
    "        loss: str = 'warp',\n",
    "        lr: float = 0.05,\n",
    "        user_alpha: float = 0.05,\n",
    "        item_alpha: float = 0.05,\n",
    "        rnd_seed: int = 42\n",
    "    ) -> None:\n",
    "        self.no_components = no_components\n",
    "        self.loss = loss\n",
    "        self.lr = lr\n",
    "        self.user_alpha = user_alpha\n",
    "        self.item_alpha = item_alpha\n",
    "        self.model = self._get_model()\n",
    "    \n",
    "    def _get_model(self) -> LightFMWrapperModel:\n",
    "        lfm = LightFM(\n",
    "            no_components=self.no_components,\n",
    "            loss=self.loss,\n",
    "            learning_rate=self.lr,\n",
    "            user_alpha=self.user_alpha,\n",
    "            item_alpha=self.item_alpha\n",
    "        )\n",
    "        return LightFMWrapperModel(model=lfm, epochs=2, num_threads=3)\n",
    "    \n",
    "    def fit(self, dataset: Dataset) -> MyLightFM:\n",
    "        self.model.fit(dataset)\n",
    "        return self\n",
    "    \n",
    "    def recommend(self, users: pd.DataFrame, dataset: Dataset):\n",
    "        recs = self.model.recommend(\n",
    "            users=users,\n",
    "            dataset=dataset,\n",
    "            filter_viewed=True,\n",
    "            k=10\n",
    "        )\n",
    "        return recs"
   ]
  },
  {
   "cell_type": "code",
   "execution_count": 19,
   "id": "0d9a7099",
   "metadata": {},
   "outputs": [
    {
     "name": "stdout",
     "output_type": "stream",
     "text": [
      "100%|█████████████████████████████████████████████| 5/5 [04:00<00:00, 48.10s/trial, best loss: 12.698688225954111]\n"
     ]
    },
    {
     "data": {
      "text/plain": [
       "{'item_alpha': 0.15717970056189712,\n",
       " 'lr': 0.034706434050920124,\n",
       " 'no_components': 1,\n",
       " 'user_alpha': 0.14696278728502776}"
      ]
     },
     "execution_count": 19,
     "metadata": {},
     "output_type": "execute_result"
    }
   ],
   "source": [
    "cold_users = set(test[Columns.User]) - set(train[Columns.User])\n",
    "test.drop(test[test[Columns.User].isin(cold_users)].index, inplace=True)\n",
    "\n",
    "test_users = test[Columns.User].unique()\n",
    "metrics = {\n",
    "    \"map@10\": MAP(k=10)\n",
    "}\n",
    "\n",
    "def lightfm_objective(params):\n",
    "    model = MyLightFM(**params)\n",
    "    model.fit(dataset)\n",
    "    recs = model.recommend(test_users, dataset)\n",
    "    metric_values = calc_metrics(metrics, recs, test, train)\n",
    "    return {'loss': 1.0 / metric_values['map@10'], 'status': STATUS_OK}\n",
    "\n",
    "lightfm_space = {\n",
    "    \"no_components\": hp.choice(\"no_components\", [4, 8, 12, 16]),\n",
    "    \"loss\": 'warp',\n",
    "    \"lr\": hp.uniform('lr', 0.01, 0.05),\n",
    "    \"user_alpha\": hp.uniform('user_alpha', 0.0, 1.0),\n",
    "    \"item_alpha\": hp.uniform('item_alpha', 0.0, 1.0),\n",
    "    \n",
    "}\n",
    "best_lightfm = fmin(\n",
    "    fn=lightfm_objective,\n",
    "    space=lightfm_space,\n",
    "    algo=tpe.suggest,\n",
    "    max_evals=5,\n",
    "    rstate=np.random.default_rng(42)\n",
    ")\n",
    "best_lightfm"
   ]
  },
  {
   "cell_type": "code",
   "execution_count": 20,
   "id": "e0210d92",
   "metadata": {
    "scrolled": true
   },
   "outputs": [
    {
     "data": {
      "text/plain": [
       "{'item_alpha': 0.15717970056189712,\n",
       " 'lr': 0.034706434050920124,\n",
       " 'no_components': 8,\n",
       " 'user_alpha': 0.14696278728502776}"
      ]
     },
     "execution_count": 20,
     "metadata": {},
     "output_type": "execute_result"
    }
   ],
   "source": [
    "best_lightfm['no_components'] = [4, 8, 12, 16][best_lightfm['no_components']]\n",
    "best_lightfm"
   ]
  },
  {
   "cell_type": "code",
   "execution_count": 27,
   "id": "47990af3",
   "metadata": {},
   "outputs": [
    {
     "data": {
      "text/plain": [
       "0.0787482913358057"
      ]
     },
     "execution_count": 27,
     "metadata": {},
     "output_type": "execute_result"
    }
   ],
   "source": [
    "1/12.698688225954111"
   ]
  },
  {
   "cell_type": "markdown",
   "id": "b7b4e8dd",
   "metadata": {},
   "source": [
    "# <span style=\"color: #034f84\">Submission</span>\n"
   ]
  },
  {
   "cell_type": "code",
   "execution_count": 21,
   "id": "6e559694",
   "metadata": {},
   "outputs": [],
   "source": [
    "recs = pd.DataFrame({'user_id': submission['user_id'].unique()})\n",
    "cold_users = recs[~recs['user_id'].isin(dataset.user_id_map.external_ids)]\n",
    "warm_users = recs[recs['user_id'].isin(dataset.user_id_map.external_ids)]"
   ]
  },
  {
   "cell_type": "code",
   "execution_count": 22,
   "id": "7dfa702e",
   "metadata": {
    "scrolled": true
   },
   "outputs": [
    {
     "data": {
      "text/html": [
       "<div>\n",
       "<style scoped>\n",
       "    .dataframe tbody tr th:only-of-type {\n",
       "        vertical-align: middle;\n",
       "    }\n",
       "\n",
       "    .dataframe tbody tr th {\n",
       "        vertical-align: top;\n",
       "    }\n",
       "\n",
       "    .dataframe thead th {\n",
       "        text-align: right;\n",
       "    }\n",
       "</style>\n",
       "<table border=\"1\" class=\"dataframe\">\n",
       "  <thead>\n",
       "    <tr style=\"text-align: right;\">\n",
       "      <th></th>\n",
       "      <th>user_id</th>\n",
       "      <th>item_id</th>\n",
       "    </tr>\n",
       "  </thead>\n",
       "  <tbody>\n",
       "    <tr>\n",
       "      <th>0</th>\n",
       "      <td>3</td>\n",
       "      <td>[15297, 13865, 7829, 7571, 8636, 12995, 849, 1...</td>\n",
       "    </tr>\n",
       "    <tr>\n",
       "      <th>1</th>\n",
       "      <td>11</td>\n",
       "      <td>[10440, 13865, 9728, 4151, 2657, 3734, 7829, 4...</td>\n",
       "    </tr>\n",
       "    <tr>\n",
       "      <th>2</th>\n",
       "      <td>30</td>\n",
       "      <td>[10440, 15297, 13865, 4151, 2657, 3734, 7829, ...</td>\n",
       "    </tr>\n",
       "    <tr>\n",
       "      <th>3</th>\n",
       "      <td>46</td>\n",
       "      <td>[15297, 13865, 9728, 4151, 2657, 3734, 7829, 7...</td>\n",
       "    </tr>\n",
       "    <tr>\n",
       "      <th>4</th>\n",
       "      <td>47</td>\n",
       "      <td>[10440, 15297, 9728, 4151, 2657, 3734, 7829, 4...</td>\n",
       "    </tr>\n",
       "  </tbody>\n",
       "</table>\n",
       "</div>"
      ],
      "text/plain": [
       "   user_id                                            item_id\n",
       "0        3  [15297, 13865, 7829, 7571, 8636, 12995, 849, 1...\n",
       "1       11  [10440, 13865, 9728, 4151, 2657, 3734, 7829, 4...\n",
       "2       30  [10440, 15297, 13865, 4151, 2657, 3734, 7829, ...\n",
       "3       46  [15297, 13865, 9728, 4151, 2657, 3734, 7829, 7...\n",
       "4       47  [10440, 15297, 9728, 4151, 2657, 3734, 7829, 4..."
      ]
     },
     "execution_count": 22,
     "metadata": {},
     "output_type": "execute_result"
    }
   ],
   "source": [
    "mylfm = MyLightFM(**best_lightfm)\n",
    "mylfm.fit(dataset)\n",
    "recs = (\n",
    "    mylfm\n",
    "    .recommend(\n",
    "        users=warm_users[Columns.User].values,\n",
    "        dataset=dataset\n",
    "    )\n",
    "    .drop(['score', 'rank'], axis=1)\n",
    "    .groupby(Columns.User)\n",
    "    .agg({Columns.Item: list})\n",
    "    .reset_index()\n",
    ")\n",
    "recs.head()"
   ]
  },
  {
   "cell_type": "markdown",
   "id": "9d30d8e0",
   "metadata": {},
   "source": [
    "# <span style=\"color: #034f84\">Popular Covered 60% Users for cold users (HW1)</span>"
   ]
  },
  {
   "cell_type": "code",
   "execution_count": 23,
   "id": "b4f44328",
   "metadata": {
    "scrolled": true
   },
   "outputs": [
    {
     "data": {
      "text/html": [
       "<div>\n",
       "<style scoped>\n",
       "    .dataframe tbody tr th:only-of-type {\n",
       "        vertical-align: middle;\n",
       "    }\n",
       "\n",
       "    .dataframe tbody tr th {\n",
       "        vertical-align: top;\n",
       "    }\n",
       "\n",
       "    .dataframe thead th {\n",
       "        text-align: right;\n",
       "    }\n",
       "</style>\n",
       "<table border=\"1\" class=\"dataframe\">\n",
       "  <thead>\n",
       "    <tr style=\"text-align: right;\">\n",
       "      <th></th>\n",
       "      <th>user_id</th>\n",
       "      <th>item_id</th>\n",
       "    </tr>\n",
       "  </thead>\n",
       "  <tbody>\n",
       "    <tr>\n",
       "      <th>0</th>\n",
       "      <td>29</td>\n",
       "      <td>[10440, 15297, 9728, 13865, 2657, 4151, 3734, ...</td>\n",
       "    </tr>\n",
       "    <tr>\n",
       "      <th>1</th>\n",
       "      <td>33</td>\n",
       "      <td>[10440, 15297, 9728, 13865, 2657, 4151, 3734, ...</td>\n",
       "    </tr>\n",
       "    <tr>\n",
       "      <th>2</th>\n",
       "      <td>39</td>\n",
       "      <td>[10440, 15297, 9728, 13865, 2657, 4151, 3734, ...</td>\n",
       "    </tr>\n",
       "    <tr>\n",
       "      <th>3</th>\n",
       "      <td>70</td>\n",
       "      <td>[10440, 15297, 9728, 13865, 2657, 4151, 3734, ...</td>\n",
       "    </tr>\n",
       "    <tr>\n",
       "      <th>4</th>\n",
       "      <td>74</td>\n",
       "      <td>[10440, 15297, 9728, 13865, 2657, 4151, 3734, ...</td>\n",
       "    </tr>\n",
       "  </tbody>\n",
       "</table>\n",
       "</div>"
      ],
      "text/plain": [
       "   user_id                                            item_id\n",
       "0       29  [10440, 15297, 9728, 13865, 2657, 4151, 3734, ...\n",
       "1       33  [10440, 15297, 9728, 13865, 2657, 4151, 3734, ...\n",
       "2       39  [10440, 15297, 9728, 13865, 2657, 4151, 3734, ...\n",
       "3       70  [10440, 15297, 9728, 13865, 2657, 4151, 3734, ...\n",
       "4       74  [10440, 15297, 9728, 13865, 2657, 4151, 3734, ..."
      ]
     },
     "execution_count": 23,
     "metadata": {},
     "output_type": "execute_result"
    }
   ],
   "source": [
    "cols_recs_vals = [10440, 15297, 9728, 13865, 2657, 4151, 3734, 6809, 4740, 4880]\n",
    "cold_recs = [cols_recs_vals for _ in range(cold_users.shape[0])]\n",
    "cold_recs = pd.DataFrame(\n",
    "    list(zip(cold_users['user_id'].values.tolist(), cold_recs)),\n",
    "    columns=[Columns.User, Columns.Item])\n",
    "cold_recs.head()"
   ]
  },
  {
   "cell_type": "code",
   "execution_count": 24,
   "id": "dce0acd8",
   "metadata": {},
   "outputs": [],
   "source": [
    "recs = pd.concat((cold_recs, recs))"
   ]
  },
  {
   "cell_type": "code",
   "execution_count": 36,
   "id": "6bc09128",
   "metadata": {},
   "outputs": [],
   "source": [
    "recs.to_csv('submissions/lightfm.csv', index=False)\n",
    "# offline Score = 0.0787482913358057"
   ]
  },
  {
   "attachments": {
    "image.png": {
     "image/png": "[encoded data removed]"
    }
   },
   "cell_type": "markdown",
   "id": "ff09989e",
   "metadata": {},
   "source": [
    "![image.png](attachment:image.png)"
   ]
  },
  {
   "cell_type": "markdown",
   "id": "de228356",
   "metadata": {},
   "source": [
    "# <span style=\"color: #034f84\">ImplicitALS</span>"
   ]
  },
  {
   "cell_type": "code",
   "execution_count": 29,
   "id": "09a2987f",
   "metadata": {},
   "outputs": [],
   "source": [
    "from rectools.models import ImplicitALSWrapperModel\n",
    "from implicit.als import AlternatingLeastSquares"
   ]
  },
  {
   "cell_type": "code",
   "execution_count": 31,
   "id": "f826704e",
   "metadata": {},
   "outputs": [],
   "source": [
    "class MyImplicitALS:\n",
    "    def __init__(self, factors: int = 6, regularization: float = 0.05):\n",
    "        self.factors = factors\n",
    "        self.regularization = regularization\n",
    "        self.model = self._get_model()\n",
    "    \n",
    "    def _get_model(self) -> ImplicitALSWrapperModel:\n",
    "        als = AlternatingLeastSquares(\n",
    "            factors=self.factors, \n",
    "            regularization=self.regularization,\n",
    "            random_state=42,\n",
    "            num_threads=2\n",
    "        )\n",
    "        return ImplicitALSWrapperModel(model=als, fit_features_together=True)\n",
    "    \n",
    "    def fit(self, dataset: Dataset) -> MyImplicitALS:\n",
    "        self.model.fit(dataset)\n",
    "        return self\n",
    "    \n",
    "    def recommend(self, users: pd.DataFrame, dataset: Dataset):\n",
    "        recs = self.model.recommend(\n",
    "            users=users,\n",
    "            dataset=dataset,\n",
    "            k=10,\n",
    "            filter_viewed=True\n",
    "        )\n",
    "        return recs"
   ]
  },
  {
   "cell_type": "code",
   "execution_count": 32,
   "id": "253d5116",
   "metadata": {},
   "outputs": [
    {
     "name": "stdout",
     "output_type": "stream",
     "text": [
      "100%|███████████████████████████████████████████| 3/3 [1:00:56<00:00, 1218.98s/trial, best loss: 74.5309159168737]\n"
     ]
    },
    {
     "data": {
      "text/plain": [
       "{'factors': 2, 'regularization': 0.8136554076402878}"
      ]
     },
     "execution_count": 32,
     "metadata": {},
     "output_type": "execute_result"
    }
   ],
   "source": [
    "def implicit_als_objective(params):\n",
    "    model = MyImplicitALS(**params)\n",
    "    model.fit(dataset)\n",
    "    recs = model.recommend(test_users, dataset)\n",
    "    metric_values = calc_metrics(metrics, recs, test, train)\n",
    "    return {'loss': 1.0 / metric_values['map@10'], 'status': STATUS_OK}\n",
    "\n",
    "implicit_als_space = {\n",
    "    \"factors\": hp.choice(\"factors\", [4, 8, 12, 16]),\n",
    "    \"regularization\": hp.uniform('regularization', 0.0, 1.0)\n",
    "}\n",
    "best_implicit_als = fmin(\n",
    "    fn=implicit_als_objective,\n",
    "    space=implicit_als_space,\n",
    "    algo=tpe.suggest,\n",
    "    max_evals=3,\n",
    "    rstate=np.random.default_rng(42)\n",
    ")\n",
    "best_implicit_als"
   ]
  },
  {
   "cell_type": "code",
   "execution_count": 33,
   "id": "5c97b4ba",
   "metadata": {},
   "outputs": [],
   "source": [
    "best_implicit_als['factors'] = [4, 8, 12, 16][best_implicit_als['factors']]"
   ]
  },
  {
   "cell_type": "code",
   "execution_count": 34,
   "id": "0184ea3f",
   "metadata": {},
   "outputs": [
    {
     "data": {
      "text/plain": [
       "{'factors': 12, 'regularization': 0.8136554076402878}"
      ]
     },
     "execution_count": 34,
     "metadata": {},
     "output_type": "execute_result"
    }
   ],
   "source": [
    "best_implicit_als"
   ]
  },
  {
   "cell_type": "markdown",
   "id": "da5dd7b7",
   "metadata": {},
   "source": [
    "# <span style=\"color: #034f84\">Submission</span>\n"
   ]
  },
  {
   "cell_type": "code",
   "execution_count": 35,
   "id": "76d08f62",
   "metadata": {},
   "outputs": [],
   "source": [
    "recs = pd.DataFrame({'user_id': submission['user_id'].unique()})\n",
    "cold_users = recs[~recs['user_id'].isin(dataset.user_id_map.external_ids)]\n",
    "warm_users = recs[recs['user_id'].isin(dataset.user_id_map.external_ids)]"
   ]
  },
  {
   "cell_type": "code",
   "execution_count": 36,
   "id": "4aafbe14",
   "metadata": {},
   "outputs": [
    {
     "data": {
      "text/html": [
       "<div>\n",
       "<style scoped>\n",
       "    .dataframe tbody tr th:only-of-type {\n",
       "        vertical-align: middle;\n",
       "    }\n",
       "\n",
       "    .dataframe tbody tr th {\n",
       "        vertical-align: top;\n",
       "    }\n",
       "\n",
       "    .dataframe thead th {\n",
       "        text-align: right;\n",
       "    }\n",
       "</style>\n",
       "<table border=\"1\" class=\"dataframe\">\n",
       "  <thead>\n",
       "    <tr style=\"text-align: right;\">\n",
       "      <th></th>\n",
       "      <th>user_id</th>\n",
       "      <th>item_id</th>\n",
       "    </tr>\n",
       "  </thead>\n",
       "  <tbody>\n",
       "    <tr>\n",
       "      <th>0</th>\n",
       "      <td>3</td>\n",
       "      <td>[6071, 5, 6900, 6162, 1641, 14572, 11060, 6626...</td>\n",
       "    </tr>\n",
       "    <tr>\n",
       "      <th>1</th>\n",
       "      <td>11</td>\n",
       "      <td>[14470, 1399, 12463, 9070, 4716, 11778, 12501,...</td>\n",
       "    </tr>\n",
       "    <tr>\n",
       "      <th>2</th>\n",
       "      <td>30</td>\n",
       "      <td>[14431, 5958, 14814, 8584, 5838, 8373, 14399, ...</td>\n",
       "    </tr>\n",
       "    <tr>\n",
       "      <th>3</th>\n",
       "      <td>46</td>\n",
       "      <td>[13077, 7829, 12770, 4457, 2680, 5711, 15517, ...</td>\n",
       "    </tr>\n",
       "    <tr>\n",
       "      <th>4</th>\n",
       "      <td>47</td>\n",
       "      <td>[85, 6741, 973, 3808, 3628, 6214, 2677, 1916, ...</td>\n",
       "    </tr>\n",
       "  </tbody>\n",
       "</table>\n",
       "</div>"
      ],
      "text/plain": [
       "   user_id                                            item_id\n",
       "0        3  [6071, 5, 6900, 6162, 1641, 14572, 11060, 6626...\n",
       "1       11  [14470, 1399, 12463, 9070, 4716, 11778, 12501,...\n",
       "2       30  [14431, 5958, 14814, 8584, 5838, 8373, 14399, ...\n",
       "3       46  [13077, 7829, 12770, 4457, 2680, 5711, 15517, ...\n",
       "4       47  [85, 6741, 973, 3808, 3628, 6214, 2677, 1916, ..."
      ]
     },
     "execution_count": 36,
     "metadata": {},
     "output_type": "execute_result"
    }
   ],
   "source": [
    "my_implicit_als = MyImplicitALS(**best_implicit_als)\n",
    "my_implicit_als.fit(dataset)\n",
    "recs = (\n",
    "    my_implicit_als\n",
    "    .recommend(\n",
    "        users=warm_users[Columns.User].values,\n",
    "        dataset=dataset\n",
    "    )\n",
    "    .drop(['score', 'rank'], axis=1)\n",
    "    .groupby(Columns.User)\n",
    "    .agg({Columns.Item: list})\n",
    "    .reset_index()\n",
    ")\n",
    "recs.head()"
   ]
  },
  {
   "cell_type": "code",
   "execution_count": 37,
   "id": "e1697b1a",
   "metadata": {},
   "outputs": [],
   "source": [
    "recs = pd.concat((cold_recs, recs))"
   ]
  },
  {
   "cell_type": "code",
   "execution_count": 39,
   "id": "eacfaee9",
   "metadata": {},
   "outputs": [],
   "source": [
    "recs.to_csv('submissions/implicit_als.csv', index=False)\n",
    "# offline Score = 0.013417250917932184"
   ]
  },
  {
   "attachments": {
    "image.png": {
     "image/png": "[encoded data removed]"
    }
   },
   "cell_type": "markdown",
   "id": "2405d635",
   "metadata": {},
   "source": [
    "![image.png](attachment:image.png)"
   ]
  },
  {
   "cell_type": "code",
   "execution_count": null,
   "id": "f9817497",
   "metadata": {},
   "outputs": [],
   "source": []
  }
 ],
 "metadata": {
  "kernelspec": {
   "display_name": "Python 3 (ipykernel)",
   "language": "python",
   "name": "python3"
  },
  "language_info": {
   "codemirror_mode": {
    "name": "ipython",
    "version": 3
   },
   "file_extension": ".py",
   "mimetype": "text/x-python",
   "name": "python",
   "nbconvert_exporter": "python",
   "pygments_lexer": "ipython3",
   "version": "3.9.15"
  }
 },
 "nbformat": 4,
 "nbformat_minor": 5
}
